{
 "cells": [
  {
   "cell_type": "code",
   "execution_count": null,
   "id": "8fac019c",
   "metadata": {},
   "outputs": [
    {
     "data": {
      "text/plain": [
       "'installs'"
      ]
     },
     "execution_count": 1,
     "metadata": {},
     "output_type": "execute_result"
    }
   ],
   "source": [
    "\"\"\"installs\"\"\"\n",
    "\n",
    "# !pip install nc-time-axis\n",
    "# !pip install netCDF4 h5netcdf\n",
    "# !pip install xarray\n",
    "# !pip install cdsapi\n",
    "# !pip install networkx geopandas osmnx igraph matplotlib\n"
   ]
  },
  {
   "cell_type": "code",
   "execution_count": null,
   "id": "bd5353e3",
   "metadata": {},
   "outputs": [],
   "source": [
    "import sys\n",
    "\n",
    "sys.path.append(\"../\")\n"
   ]
  },
  {
   "cell_type": "code",
   "execution_count": null,
   "id": "76b50e84",
   "metadata": {},
   "outputs": [],
   "source": [
    "# Core libraries\n",
    "import networkx as nx\n",
    "import pandas as pd\n",
    "import geopandas as gpd\n",
    "import numpy as np\n",
    "import matplotlib.pyplot as plt\n",
    "from typing import Dict, List, Optional\n",
    "from dataclasses import dataclass\n",
    "\n",
    "\n",
    "from scripts import model\n",
    "\n",
    "UTM_CRS = 32639\n",
    "\n",
    "CRS = 4326\n",
    "DEMAND_COL = \"demand_without\"\n",
    "SERVICE_NAME = \"hospital\"\n",
    "SETTL_NAME = \"nao\"\n",
    "\n",
    "\n",
    "# Constants\n",
    "KELVIN_TO_CELSIUS = 273.15\n",
    "BASE_YEAR = 2025\n",
    "FORECAST_YEAR = 2050\n",
    "YEAR_STEP = 5\n",
    "PROBABILITY_THRESHOLD = 0.5\n",
    "\n",
    "\n",
    "CONST_BASE_DEMAND = 120  # if not known (!)\n",
    "SERVICE_RADIUS_MINUTES = 300\n",
    "\n",
    "transport_modes = [\n",
    "    \"car_warm\",\n",
    "    \"plane\",\n",
    "    \"water_ship\",\n",
    "    \"water_boat\",\n",
    "    \"car_cold\",\n",
    "    \"winter_tr\",\n",
    "]\n"
   ]
  },
  {
   "cell_type": "code",
   "execution_count": null,
   "id": "524ac05f",
   "metadata": {},
   "outputs": [],
   "source": []
  },
  {
   "cell_type": "code",
   "execution_count": null,
   "id": "9693e3cd",
   "metadata": {},
   "outputs": [],
   "source": [
    "main_data_path = \"../data\"\n",
    "\n",
    "\n",
    "settl = gpd.read_file(\n",
    "    main_data_path + f\"/processed/df_settlements_{SETTL_NAME}.geojson\"\n",
    ").to_crs(CRS)\n",
    "transport_df = (\n",
    "    gpd.read_file(main_data_path + f\"/processed/df_time_{SETTL_NAME}.geojson\")\n",
    "    .to_crs(CRS)\n",
    "    .dropna(subset=[\"geometry\"])\n",
    ")\n",
    "\n",
    "df_service = gpd.read_file(\n",
    "    main_data_path + f\"/processed/df_{SERVICE_NAME}_{SETTL_NAME}.geojson\"\n",
    ").to_crs(UTM_CRS)\n",
    "\n",
    "infr_df = pd.read_csv(main_data_path + f\"/raw/infrastructure_{SETTL_NAME}.csv\", sep=\";\")\n"
   ]
  },
  {
   "cell_type": "markdown",
   "id": "917d3c8f",
   "metadata": {},
   "source": [
    "## Some preprocessing"
   ]
  },
  {
   "cell_type": "code",
   "execution_count": null,
   "id": "15a4c968",
   "metadata": {},
   "outputs": [],
   "source": [
    "settl[\"name\"] = settl[\"name\"].str.replace(\"ё\", \"е\")\n",
    "# Convert mode values from ',' to '.' and ensure they are float\n",
    "for mode in transport_modes:\n",
    "    transport_df[mode] = (\n",
    "        transport_df[mode].astype(str).str.replace(\",\", \".\").astype(float)\n",
    "    )\n",
    "\n",
    "# Fill NaNs with 0\n",
    "infr_df.fillna(0, inplace=True)\n",
    "\n",
    "for t in transport_modes:\n",
    "    transport_df[t] = transport_df[t].astype(str).str.replace(\",\", \".\").astype(float)\n"
   ]
  },
  {
   "cell_type": "code",
   "execution_count": null,
   "id": "6eabedf3",
   "metadata": {},
   "outputs": [],
   "source": [
    "x = transport_df.union_all().centroid.x\n",
    "y = transport_df.union_all().centroid.y\n"
   ]
  },
  {
   "cell_type": "code",
   "execution_count": null,
   "id": "0270b25b",
   "metadata": {},
   "outputs": [],
   "source": [
    "# import folium\n",
    "# from folium import FeatureGroup\n",
    "# import geopandas as gpd\n",
    "\n",
    "\n",
    "# # Start a base map\n",
    "# m = folium.Map(location=[x, y], zoom_start=5, tiles=\"cartodbpositron\")\n",
    "\n",
    "# # Define transport columns you want to show as layers\n",
    "# transport_cols = [\n",
    "#     \"car_warm\",\n",
    "#     \"plane\",\n",
    "#     \"water_ship\",\n",
    "#     \"water_boat\",\n",
    "#     \"car_cold\",\n",
    "#     \"winter_tr\",\n",
    "# ]\n",
    "\n",
    "# # Color palette just for better visibility\n",
    "# colors = [\"red\", \"blue\", \"green\", \"purple\", \"orange\", \"black\"]\n",
    "\n",
    "# # Create a layer for each transport type\n",
    "# for mode, color in zip(transport_cols, colors):\n",
    "#     fg = FeatureGroup(name=mode)\n",
    "\n",
    "#     # Filter edges with non-zero availability for this transport type\n",
    "#     gdf_filtered = transport_df[transport_df[mode] > 0]\n",
    "\n",
    "#     # Add each geometry as a line to the FeatureGroup\n",
    "#     for _, row in gdf_filtered.iterrows():\n",
    "#         folium.PolyLine(\n",
    "#             locations=[(coord[1], coord[0]) for coord in row[\"geometry\"].coords],\n",
    "#             color=color,\n",
    "#             tooltip=f\"{row['edge1']} ↔ {row['edge2']} ({mode})\",\n",
    "#             weight=3,\n",
    "#         ).add_to(fg)\n",
    "\n",
    "#     fg.add_to(m)\n",
    "# m\n"
   ]
  },
  {
   "cell_type": "code",
   "execution_count": null,
   "id": "81fb1320",
   "metadata": {},
   "outputs": [],
   "source": [
    "# ??????????????????\n",
    "\n",
    "df_matrix = model.make_adjacency_matrix(transport_df)\n",
    "blocks_gdf = model.create_blocks(settl, const_demand=CONST_BASE_DEMAND, epsg=UTM_CRS)\n",
    "matrix = model.create_graph(df_matrix)\n",
    "blocks = model.update_blocks_with_services(\n",
    "    blocks_gdf, df_service, epsg=UTM_CRS, service_type_name=SERVICE_NAME\n",
    ")\n",
    "id_matrix = df_matrix.index.tolist()\n"
   ]
  },
  {
   "cell_type": "code",
   "execution_count": null,
   "id": "96937dc0",
   "metadata": {},
   "outputs": [],
   "source": []
  },
  {
   "cell_type": "code",
   "execution_count": null,
   "id": "e9bd6cc3",
   "metadata": {},
   "outputs": [],
   "source": []
  },
  {
   "cell_type": "code",
   "execution_count": null,
   "id": "f9ab719e",
   "metadata": {},
   "outputs": [],
   "source": []
  },
  {
   "cell_type": "code",
   "execution_count": null,
   "id": "5844d663",
   "metadata": {},
   "outputs": [],
   "source": []
  },
  {
   "cell_type": "code",
   "execution_count": null,
   "id": "3d507acc",
   "metadata": {},
   "outputs": [],
   "source": []
  },
  {
   "cell_type": "code",
   "execution_count": null,
   "id": "a333c9fa",
   "metadata": {},
   "outputs": [],
   "source": []
  },
  {
   "cell_type": "code",
   "execution_count": null,
   "id": "2f216bb1",
   "metadata": {},
   "outputs": [],
   "source": []
  },
  {
   "cell_type": "code",
   "execution_count": null,
   "id": "a2e7b4da",
   "metadata": {},
   "outputs": [],
   "source": []
  },
  {
   "cell_type": "code",
   "execution_count": null,
   "id": "dabc41e9",
   "metadata": {},
   "outputs": [],
   "source": [
    "@dataclass\n",
    "class TransportMode:\n",
    "    name: str\n",
    "    winter_threshold: float = -10.0\n",
    "    summer_threshold: float = 5.0\n",
    "    steepness: float = 0.3\n",
    "\n",
    "    def get_probability(self, temperature: float) -> float:\n",
    "        \"\"\"Calculate probability using sigmoid function\"\"\"\n",
    "        return 1 / (1 + np.exp(-self.steepness * (temperature - self.winter_threshold)))\n",
    "\n",
    "\n",
    "class CarWarmTransport(TransportMode):\n",
    "    def __init__(self):\n",
    "        super().__init__(name=\"car_warm\", winter_threshold=5.0, steepness=0.3)\n",
    "\n",
    "\n",
    "class WinterTransport(TransportMode):\n",
    "    def __init__(self):\n",
    "        super().__init__(name=\"winter_tr\", winter_threshold=-5.0, steepness=-0.4)\n",
    "\n",
    "\n",
    "class PlaneTransport(TransportMode):\n",
    "    def __init__(self):\n",
    "        super().__init__(name=\"plane\", winter_threshold=-5.0, steepness=0.3)\n",
    "\n",
    "\n",
    "class WaterTransport(TransportMode):\n",
    "    def __init__(self):\n",
    "        super().__init__(name=\"water_ship\", winter_threshold=0.0, steepness=0.7)\n",
    "\n",
    "\n",
    "TRANSPORT_MODES = [\n",
    "    CarWarmTransport(),\n",
    "    WinterTransport(),\n",
    "    PlaneTransport(),\n",
    "    WaterTransport(),\n",
    "]\n"
   ]
  }
 ],
 "metadata": {
  "kernelspec": {
   "display_name": ".venv",
   "language": "python",
   "name": "python3"
  },
  "language_info": {
   "codemirror_mode": {
    "name": "ipython",
    "version": 3
   },
   "file_extension": ".py",
   "mimetype": "text/x-python",
   "name": "python",
   "nbconvert_exporter": "python",
   "pygments_lexer": "ipython3",
   "version": "3.11.10"
  }
 },
 "nbformat": 4,
 "nbformat_minor": 5
}
